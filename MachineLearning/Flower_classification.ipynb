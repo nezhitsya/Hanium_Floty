{
  "nbformat": 4,
  "nbformat_minor": 0,
  "metadata": {
    "colab": {
      "name": "Floty_example.ipynb의 사본",
      "provenance": [],
      "collapsed_sections": []
    },
    "kernelspec": {
      "display_name": "Python 3",
      "name": "python3"
    },
    "language_info": {
      "name": "python"
    }
  },
  "cells": [
    {
      "cell_type": "code",
      "metadata": {
        "id": "PWqNfsCAh-Go"
      },
      "source": [
        "!pip install -q tflite-model-maker"
      ],
      "execution_count": null,
      "outputs": []
    },
    {
      "cell_type": "code",
      "metadata": {
        "id": "hvlThyAZiQUr"
      },
      "source": [
        "import os\n",
        "\n",
        "import numpy as np\n",
        "\n",
        "import tensorflow as tf\n",
        "assert tf.__version__.startswith('2')\n",
        "\n",
        "from tflite_model_maker import model_spec\n",
        "from tflite_model_maker import image_classifier\n",
        "from tflite_model_maker.config import ExportFormat\n",
        "from tflite_model_maker.config import QuantizationConfig\n",
        "from tflite_model_maker.image_classifier import DataLoader\n",
        "\n",
        "import matplotlib.pyplot as plt"
      ],
      "execution_count": null,
      "outputs": []
    },
    {
      "cell_type": "markdown",
      "metadata": {
        "id": "nGxXsmiHirfK"
      },
      "source": [
        "## 데이터 경로"
      ]
    },
    {
      "cell_type": "code",
      "metadata": {
        "id": "VIECfAQgiUj6"
      },
      "source": [
        "image_path = '/content/drive/MyDrive/Floty/flower_photos'"
      ],
      "execution_count": null,
      "outputs": []
    },
    {
      "cell_type": "markdown",
      "metadata": {
        "id": "AfthfsCUiuYN"
      },
      "source": [
        "## 온 디바이스 ML 앱과 관련된 입력 데이터 로드\n",
        "훈련 데이터와 테스트 데이터로 분할\n",
        "\n",
        "훈련 데이터 (80 %), 검증 데이터 (10 %, 선택 사항) 및 테스트 데이터 (10 %)"
      ]
    },
    {
      "cell_type": "code",
      "metadata": {
        "colab": {
          "base_uri": "https://localhost:8080/"
        },
        "id": "TFUU3RMcieK9",
        "outputId": "caa219d9-8824-484b-a440-e4d666feeb55"
      },
      "source": [
        "data = DataLoader.from_folder(image_path)"
      ],
      "execution_count": null,
      "outputs": [
        {
          "output_type": "stream",
          "name": "stdout",
          "text": [
            "INFO:tensorflow:Load image with size: 15091, num_label: 35, labels: 개나리, 금낭화, 나팔꽃, 데이지, 도라지, 동백나무, 라벤더, 라일락, 메리골드, 목련, 무궁화, 미모사, 민들레, 백일홍, 백합, 버지니아, 봉선화, 수국, 수련, 수선화, 아네모네, 아이리스, 아카시아, 양귀비, 일일초, 자스민, 장미, 채송화, 카네이션, 코스모스, 튤립, 팬지, 프리지아, 히비스커스, 히아신스.\n"
          ]
        }
      ]
    },
    {
      "cell_type": "code",
      "metadata": {
        "id": "ClDswkoVh3qo"
      },
      "source": [
        "train_data, rest_data = data.split(0.8)\n",
        "validation_data, test_data = rest_data.split(0.5)"
      ],
      "execution_count": null,
      "outputs": []
    },
    {
      "cell_type": "markdown",
      "metadata": {
        "id": "ae2j4Resh_cy"
      },
      "source": [
        "## TensorFlow 모델 사용자 지정"
      ]
    },
    {
      "cell_type": "code",
      "metadata": {
        "colab": {
          "base_uri": "https://localhost:8080/"
        },
        "id": "bCF350Rmh8i4",
        "outputId": "c5d67a12-cf2f-4e42-d1cd-9be6afa8da6e"
      },
      "source": [
        "model = image_classifier.create(train_data, validation_data=validation_data, epochs=15)"
      ],
      "execution_count": null,
      "outputs": [
        {
          "output_type": "stream",
          "name": "stdout",
          "text": [
            "INFO:tensorflow:Retraining the models...\n",
            "Model: \"sequential\"\n",
            "_________________________________________________________________\n",
            "Layer (type)                 Output Shape              Param #   \n",
            "=================================================================\n",
            "hub_keras_layer_v1v2 (HubKer (None, 1280)              3413024   \n",
            "_________________________________________________________________\n",
            "dropout (Dropout)            (None, 1280)              0         \n",
            "_________________________________________________________________\n",
            "dense (Dense)                (None, 35)                44835     \n",
            "=================================================================\n",
            "Total params: 3,457,859\n",
            "Trainable params: 44,835\n",
            "Non-trainable params: 3,413,024\n",
            "_________________________________________________________________\n",
            "None\n",
            "Epoch 1/15"
          ]
        },
        {
          "output_type": "stream",
          "name": "stderr",
          "text": [
            "/usr/local/lib/python3.7/dist-packages/keras/optimizer_v2/optimizer_v2.py:356: UserWarning: The `lr` argument is deprecated, use `learning_rate` instead.\n",
            "  \"The `lr` argument is deprecated, use `learning_rate` instead.\")\n"
          ]
        },
        {
          "output_type": "stream",
          "name": "stdout",
          "text": [
            "\n",
            "377/377 [==============================] - 1187s 3s/step - loss: 2.1960 - accuracy: 0.5196 - val_loss: 1.6876 - val_accuracy: 0.6968\n",
            "Epoch 2/15\n",
            "377/377 [==============================] - 415s 1s/step - loss: 1.6091 - accuracy: 0.7073 - val_loss: 1.5286 - val_accuracy: 0.7467\n",
            "Epoch 3/15\n",
            "377/377 [==============================] - 418s 1s/step - loss: 1.4828 - accuracy: 0.7573 - val_loss: 1.4620 - val_accuracy: 0.7719\n",
            "Epoch 4/15\n",
            "377/377 [==============================] - 418s 1s/step - loss: 1.4210 - accuracy: 0.7791 - val_loss: 1.4235 - val_accuracy: 0.7719\n",
            "Epoch 5/15\n",
            "377/377 [==============================] - 417s 1s/step - loss: 1.3750 - accuracy: 0.7979 - val_loss: 1.3968 - val_accuracy: 0.7852\n",
            "Epoch 6/15\n",
            "377/377 [==============================] - 418s 1s/step - loss: 1.3390 - accuracy: 0.8145 - val_loss: 1.3802 - val_accuracy: 0.7879\n",
            "Epoch 7/15\n",
            "377/377 [==============================] - 418s 1s/step - loss: 1.3118 - accuracy: 0.8210 - val_loss: 1.3660 - val_accuracy: 0.7932\n",
            "Epoch 8/15\n",
            "377/377 [==============================] - 421s 1s/step - loss: 1.2911 - accuracy: 0.8314 - val_loss: 1.3529 - val_accuracy: 0.8019\n",
            "Epoch 9/15\n",
            "377/377 [==============================] - 416s 1s/step - loss: 1.2737 - accuracy: 0.8425 - val_loss: 1.3394 - val_accuracy: 0.8092\n",
            "Epoch 10/15\n",
            "377/377 [==============================] - 416s 1s/step - loss: 1.2632 - accuracy: 0.8447 - val_loss: 1.3290 - val_accuracy: 0.8118\n",
            "Epoch 11/15\n",
            "377/377 [==============================] - 421s 1s/step - loss: 1.2462 - accuracy: 0.8515 - val_loss: 1.3231 - val_accuracy: 0.8112\n",
            "Epoch 12/15\n",
            "377/377 [==============================] - 420s 1s/step - loss: 1.2319 - accuracy: 0.8592 - val_loss: 1.3189 - val_accuracy: 0.8178\n",
            "Epoch 13/15\n",
            "377/377 [==============================] - 415s 1s/step - loss: 1.2295 - accuracy: 0.8621 - val_loss: 1.3074 - val_accuracy: 0.8251\n",
            "Epoch 14/15\n",
            "377/377 [==============================] - 413s 1s/step - loss: 1.2180 - accuracy: 0.8650 - val_loss: 1.3063 - val_accuracy: 0.8231\n",
            "Epoch 15/15\n",
            "377/377 [==============================] - 414s 1s/step - loss: 1.2052 - accuracy: 0.8716 - val_loss: 1.3006 - val_accuracy: 0.8265\n"
          ]
        }
      ]
    },
    {
      "cell_type": "markdown",
      "metadata": {
        "id": "o2pB9I41iCXv"
      },
      "source": [
        "## 맞춤형 모델 평가"
      ]
    },
    {
      "cell_type": "code",
      "metadata": {
        "colab": {
          "base_uri": "https://localhost:8080/"
        },
        "id": "cGTxqvh5iFbp",
        "outputId": "169099aa-d0a4-4812-8f34-494c8638e3c6"
      },
      "source": [
        "loss, accuracy = model.evaluate(test_data)"
      ],
      "execution_count": null,
      "outputs": [
        {
          "output_type": "stream",
          "name": "stdout",
          "text": [
            "48/48 [==============================] - 160s 3s/step - loss: 1.3132 - accuracy: 0.8152\n"
          ]
        }
      ]
    },
    {
      "cell_type": "code",
      "metadata": {
        "colab": {
          "base_uri": "https://localhost:8080/"
        },
        "id": "XBuAYEoSiHAA",
        "outputId": "669595f1-4ed0-495b-d431-07a537bd368a"
      },
      "source": [
        "model.export(export_dir='/content/drive/MyDrive/Floty')"
      ],
      "execution_count": null,
      "outputs": [
        {
          "output_type": "stream",
          "name": "stdout",
          "text": [
            "INFO:tensorflow:Assets written to: /tmp/tmpc2h3j8mt/assets\n"
          ]
        },
        {
          "output_type": "stream",
          "name": "stderr",
          "text": [
            "INFO:tensorflow:Assets written to: /tmp/tmpc2h3j8mt/assets\n",
            "WARNING:absl:For model inputs containing unsupported operations which cannot be quantized, the `inference_input_type` attribute will default to the original type.\n"
          ]
        },
        {
          "output_type": "stream",
          "name": "stdout",
          "text": [
            "INFO:tensorflow:Label file is inside the TFLite model with metadata.\n"
          ]
        },
        {
          "output_type": "stream",
          "name": "stderr",
          "text": [
            "INFO:tensorflow:Label file is inside the TFLite model with metadata.\n"
          ]
        },
        {
          "output_type": "stream",
          "name": "stdout",
          "text": [
            "INFO:tensorflow:Saving labels in /tmp/tmpcp4mbfpr/labels.txt\n"
          ]
        },
        {
          "output_type": "stream",
          "name": "stderr",
          "text": [
            "INFO:tensorflow:Saving labels in /tmp/tmpcp4mbfpr/labels.txt\n"
          ]
        },
        {
          "output_type": "stream",
          "name": "stdout",
          "text": [
            "INFO:tensorflow:TensorFlow Lite model exported successfully: /content/drive/MyDrive/Floty/model.tflite\n"
          ]
        },
        {
          "output_type": "stream",
          "name": "stderr",
          "text": [
            "INFO:tensorflow:TensorFlow Lite model exported successfully: /content/drive/MyDrive/Floty/model.tflite\n"
          ]
        }
      ]
    },
    {
      "cell_type": "markdown",
      "metadata": {
        "id": "YIOPFuGpiQTK"
      },
      "source": [
        "## 평가"
      ]
    },
    {
      "cell_type": "code",
      "metadata": {
        "id": "XiN0bPvmiRhA",
        "colab": {
          "base_uri": "https://localhost:8080/"
        },
        "outputId": "dd594057-74c6-4eeb-9591-13f8edf5484f"
      },
      "source": [
        "model.evaluate_tflite('/content/drive/MyDrive/Floty/model.tflite', test_data)"
      ],
      "execution_count": null,
      "outputs": [
        {
          "output_type": "execute_result",
          "data": {
            "text/plain": [
              "{'accuracy': 0.8185430463576159}"
            ]
          },
          "metadata": {},
          "execution_count": 9
        }
      ]
    }
  ]
}